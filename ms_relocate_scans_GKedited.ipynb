{
 "cells": [
  {
   "cell_type": "code",
   "execution_count": 3,
   "metadata": {
    "collapsed": false
   },
   "outputs": [
    {
     "data": {
      "text/plain": [
       "_StoreAction(option_strings=[], dest='spreadsheet', nargs=None, const=None, default=None, type=None, choices=None, help='csv with first column titled STUDY and the second titled ACCESSION', metavar=None)"
      ]
     },
     "execution_count": 3,
     "metadata": {},
     "output_type": "execute_result"
    }
   ],
   "source": [
    "#!/usr/bin/env python\n",
    "from subprocess import call, check_call\n",
    "from getpass import getpass\n",
    "import csv\n",
    "import os\n",
    "import sys\n",
    "import argparse\n",
    "\n",
    "from nipype.utils.filemanip import load_json, save_json\n",
    "\n",
    "## load study keys ##\n",
    "study_to_directory = load_json('/data/henry6/alyssa/scripts/studies.json')\n",
    "keys = \"\"\n",
    "for i, key in enumerate(sorted(study_to_directory.keys())):\n",
    "    if i != (len(study_to_directory.keys()) - 1):\n",
    "        keys += \"{}, \".format(key)\n",
    "    else:\n",
    "        keys += key\n",
    "# controls currently being sent to NOT YET SCREENED folder\n",
    "# what is study_opera2 ???\n",
    "\n",
    "## help ##\n",
    "usage = \"\"\"ms_relocate_scans.py <csv spreadsheet>\"\"\"\n",
    "parser = argparse.ArgumentParser(description=\"ms_relocate_scans.py grabs directory and ACC# from csv spreadsheet and then copies the data accordingly. Included studies are %s\" %keys)\n",
    "parser.add_argument(\"spreadsheet\", help=\"csv with first column titled STUDY and the second titled ACCESSION\")\n"
   ]
  },
  {
   "cell_type": "code",
   "execution_count": 4,
   "metadata": {
    "collapsed": false
   },
   "outputs": [
    {
     "name": "stderr",
     "output_type": "stream",
     "text": [
      "usage: __main__.py [-h] spreadsheet\n",
      "__main__.py: error: unrecognized arguments: -f\n"
     ]
    },
    {
     "ename": "SystemExit",
     "evalue": "2",
     "output_type": "error",
     "traceback": [
      "An exception has occurred, use %tb to see the full traceback.\n",
      "\u001b[1;31mSystemExit\u001b[0m\u001b[1;31m:\u001b[0m 2\n"
     ]
    },
    {
     "name": "stderr",
     "output_type": "stream",
     "text": [
      "To exit: use 'exit', 'quit', or Ctrl-D.\n"
     ]
    }
   ],
   "source": [
    "args = parser.parse_args()\n",
    "\n",
    "## let's get started ##\n",
    "password = getpass(\"mspacman password: \")\n",
    "\n",
    "data = csv.DictReader(open(args.spreadsheet, 'r'))\n",
    "# fns = csv.fieldnames\n",
    "\n",
    "log = \"/scratch/henry_temp/alyssa/database/.temp_dcm_qr\"\n",
    "os.system(\"ms_dcm_qr --list -p %s > %s\" % (password, log))\n",
    "info = open(log, \"r\")\n",
    "lines = [line.strip() for line in info.readlines()]\n",
    "info.close()"
   ]
  },
  {
   "cell_type": "code",
   "execution_count": null,
   "metadata": {
    "collapsed": true
   },
   "outputs": [],
   "source": [
    "\n",
    "\n",
    "def check_upload(acc):\n",
    "    flag = \"\"\n",
    "    for line in lines:\n",
    "        if acc in line:\n",
    "            flag = \"already done\"\n",
    "    return flag\n",
    "\n",
    "for row in data:\n",
    "\n",
    "    output = check_upload(row[\"ACCESSION\"])\n",
    "    if output == \"already done\":\n",
    "        print(\"This exam is already in MSPACS. Skipping...\") \n",
    "        continue\n",
    "\n",
    "    try:\n",
    "        directory = study_to_directory[row['STUDY']]\n",
    "    except KeyError:\n",
    "        new_study = raw_input(\"Is %s a new study?\"\n",
    "                              \"\\n(Reminder: new study tags need to be initialized in the DB)\\n\"\n",
    "                              \"yes/no: \" % row[\"STUDY\"])\n",
    "        if (new_study == \"yes\") or (new_study == \"y\"):\n",
    "            directory = raw_input(\"What is the study directory path? \\n\")\n",
    "            print(\"Thanks! Adding this new study to the dictionary...\")\n",
    "            if not os.path.exists(directory):\n",
    "                os.mkdir(directory)\n",
    "            study_to_directory[row[\"STUDY\"]] = directory\n",
    "            save_json(\"/data/henry6/alyssa/scripts/studies.json\", study_to_directory)\n",
    "        elif (new_study == \"no\") or (new_study == \"n\"):\n",
    "            print(\"Your input (%s) was not found in our dictionary. What should the study name have been?\"\n",
    "                  % row[\"STUDY\"])\n",
    "            print(keys)\n",
    "            row['STUDY'] = raw_input(\"What should the study name have been?\"\n",
    "                                     \"\\n(Reminder: study keys are case sensitive)\\n\"\n",
    "                                     \"Study name: \")\n",
    "            directory = study_to_directory[row['STUDY']]\n",
    "    print(\"changing directory to %s\" % directory)\n",
    "    os.chdir(directory)\n",
    "    print(\"copying exam to study directory\")\n",
    "    call(['ms_get_scanner_data', '-a', row['ACCESSION'], '--study', row['STUDY'], '--all_raw', '-p', password]) #previously check_call\n",
    "\n",
    "os.remove(log)\n"
   ]
  }
 ],
 "metadata": {
  "kernelspec": {
   "display_name": "Python 2",
   "language": "python",
   "name": "python2"
  },
  "language_info": {
   "codemirror_mode": {
    "name": "ipython",
    "version": 2
   },
   "file_extension": ".py",
   "mimetype": "text/x-python",
   "name": "python",
   "nbconvert_exporter": "python",
   "pygments_lexer": "ipython2",
   "version": "2.7.11"
  }
 },
 "nbformat": 4,
 "nbformat_minor": 0
}
